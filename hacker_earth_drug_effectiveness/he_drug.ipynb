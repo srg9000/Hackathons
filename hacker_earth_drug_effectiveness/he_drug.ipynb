{
 "cells": [
  {
   "cell_type": "code",
   "execution_count": 1,
   "metadata": {},
   "outputs": [
    {
     "name": "stdout",
     "output_type": "stream",
     "text": [
      "Python 3.7.6\n"
     ]
    }
   ],
   "source": [
    "!python --version"
   ]
  },
  {
   "cell_type": "code",
   "execution_count": 1,
   "metadata": {},
   "outputs": [
    {
     "name": "stderr",
     "output_type": "stream",
     "text": [
      "C:\\Users\\sajan\\AppData\\Local\\Programs\\Python\\Python37\\Lib\\site-packages\\tensorflow\\python\\framework\\dtypes.py:516: FutureWarning: Passing (type, 1) or '1type' as a synonym of type is deprecated; in a future version of numpy, it will be understood as (type, (1,)) / '(1,)type'.\n",
      "  _np_qint8 = np.dtype([(\"qint8\", np.int8, 1)])\n",
      "C:\\Users\\sajan\\AppData\\Local\\Programs\\Python\\Python37\\Lib\\site-packages\\tensorflow\\python\\framework\\dtypes.py:517: FutureWarning: Passing (type, 1) or '1type' as a synonym of type is deprecated; in a future version of numpy, it will be understood as (type, (1,)) / '(1,)type'.\n",
      "  _np_quint8 = np.dtype([(\"quint8\", np.uint8, 1)])\n",
      "C:\\Users\\sajan\\AppData\\Local\\Programs\\Python\\Python37\\Lib\\site-packages\\tensorflow\\python\\framework\\dtypes.py:518: FutureWarning: Passing (type, 1) or '1type' as a synonym of type is deprecated; in a future version of numpy, it will be understood as (type, (1,)) / '(1,)type'.\n",
      "  _np_qint16 = np.dtype([(\"qint16\", np.int16, 1)])\n",
      "C:\\Users\\sajan\\AppData\\Local\\Programs\\Python\\Python37\\Lib\\site-packages\\tensorflow\\python\\framework\\dtypes.py:519: FutureWarning: Passing (type, 1) or '1type' as a synonym of type is deprecated; in a future version of numpy, it will be understood as (type, (1,)) / '(1,)type'.\n",
      "  _np_quint16 = np.dtype([(\"quint16\", np.uint16, 1)])\n",
      "C:\\Users\\sajan\\AppData\\Local\\Programs\\Python\\Python37\\Lib\\site-packages\\tensorflow\\python\\framework\\dtypes.py:520: FutureWarning: Passing (type, 1) or '1type' as a synonym of type is deprecated; in a future version of numpy, it will be understood as (type, (1,)) / '(1,)type'.\n",
      "  _np_qint32 = np.dtype([(\"qint32\", np.int32, 1)])\n",
      "C:\\Users\\sajan\\AppData\\Local\\Programs\\Python\\Python37\\Lib\\site-packages\\tensorflow\\python\\framework\\dtypes.py:525: FutureWarning: Passing (type, 1) or '1type' as a synonym of type is deprecated; in a future version of numpy, it will be understood as (type, (1,)) / '(1,)type'.\n",
      "  np_resource = np.dtype([(\"resource\", np.ubyte, 1)])\n",
      "C:\\Users\\sajan\\AppData\\Local\\Programs\\Python\\Python37\\Lib\\site-packages\\tensorboard\\compat\\tensorflow_stub\\dtypes.py:541: FutureWarning: Passing (type, 1) or '1type' as a synonym of type is deprecated; in a future version of numpy, it will be understood as (type, (1,)) / '(1,)type'.\n",
      "  _np_qint8 = np.dtype([(\"qint8\", np.int8, 1)])\n",
      "C:\\Users\\sajan\\AppData\\Local\\Programs\\Python\\Python37\\Lib\\site-packages\\tensorboard\\compat\\tensorflow_stub\\dtypes.py:542: FutureWarning: Passing (type, 1) or '1type' as a synonym of type is deprecated; in a future version of numpy, it will be understood as (type, (1,)) / '(1,)type'.\n",
      "  _np_quint8 = np.dtype([(\"quint8\", np.uint8, 1)])\n",
      "C:\\Users\\sajan\\AppData\\Local\\Programs\\Python\\Python37\\Lib\\site-packages\\tensorboard\\compat\\tensorflow_stub\\dtypes.py:543: FutureWarning: Passing (type, 1) or '1type' as a synonym of type is deprecated; in a future version of numpy, it will be understood as (type, (1,)) / '(1,)type'.\n",
      "  _np_qint16 = np.dtype([(\"qint16\", np.int16, 1)])\n",
      "C:\\Users\\sajan\\AppData\\Local\\Programs\\Python\\Python37\\Lib\\site-packages\\tensorboard\\compat\\tensorflow_stub\\dtypes.py:544: FutureWarning: Passing (type, 1) or '1type' as a synonym of type is deprecated; in a future version of numpy, it will be understood as (type, (1,)) / '(1,)type'.\n",
      "  _np_quint16 = np.dtype([(\"quint16\", np.uint16, 1)])\n",
      "C:\\Users\\sajan\\AppData\\Local\\Programs\\Python\\Python37\\Lib\\site-packages\\tensorboard\\compat\\tensorflow_stub\\dtypes.py:545: FutureWarning: Passing (type, 1) or '1type' as a synonym of type is deprecated; in a future version of numpy, it will be understood as (type, (1,)) / '(1,)type'.\n",
      "  _np_qint32 = np.dtype([(\"qint32\", np.int32, 1)])\n",
      "C:\\Users\\sajan\\AppData\\Local\\Programs\\Python\\Python37\\Lib\\site-packages\\tensorboard\\compat\\tensorflow_stub\\dtypes.py:550: FutureWarning: Passing (type, 1) or '1type' as a synonym of type is deprecated; in a future version of numpy, it will be understood as (type, (1,)) / '(1,)type'.\n",
      "  np_resource = np.dtype([(\"resource\", np.ubyte, 1)])\n",
      "Using TensorFlow backend.\n"
     ]
    }
   ],
   "source": [
    "import os\n",
    "os.environ['TF_CPP_MIN_LOG_LEVEL'] = '3'  # or any {'0', '1', '2'}\n",
    "import tensorflow as tf\n",
    "tf.compat.v1.logging.set_verbosity(tf.compat.v1.logging.ERROR)\n",
    "import numpy as np\n",
    "import keras\n",
    "import cv2\n",
    "import matplotlib.pyplot as plt\n",
    "import sys,gc\n",
    "import pickle\n",
    "import pandas as pd\n",
    "import seaborn as sns"
   ]
  },
  {
   "cell_type": "code",
   "execution_count": 2,
   "metadata": {},
   "outputs": [],
   "source": [
    "from sklearn.preprocessing import StandardScaler, MinMaxScaler\n",
    "from sklearn.metrics import f1_score, accuracy_score\n",
    "from sklearn.ensemble import RandomForestRegressor, GradientBoostingRegressor\n",
    "from sklearn.model_selection import train_test_split"
   ]
  },
  {
   "cell_type": "code",
   "execution_count": null,
   "metadata": {},
   "outputs": [],
   "source": []
  },
  {
   "cell_type": "code",
   "execution_count": 85,
   "metadata": {},
   "outputs": [
    {
     "data": {
      "text/html": [
       "<div>\n",
       "<style scoped>\n",
       "    .dataframe tbody tr th:only-of-type {\n",
       "        vertical-align: middle;\n",
       "    }\n",
       "\n",
       "    .dataframe tbody tr th {\n",
       "        vertical-align: top;\n",
       "    }\n",
       "\n",
       "    .dataframe thead th {\n",
       "        text-align: right;\n",
       "    }\n",
       "</style>\n",
       "<table border=\"1\" class=\"dataframe\">\n",
       "  <thead>\n",
       "    <tr style=\"text-align: right;\">\n",
       "      <th></th>\n",
       "      <th>name_of_drug</th>\n",
       "      <th>use_case_for_drug</th>\n",
       "      <th>review_by_patient</th>\n",
       "      <th>effectiveness_rating</th>\n",
       "      <th>drug_approved_by_UIC</th>\n",
       "      <th>number_of_times_prescribed</th>\n",
       "    </tr>\n",
       "  </thead>\n",
       "  <tbody>\n",
       "    <tr>\n",
       "      <td>0</td>\n",
       "      <td>Valsartan</td>\n",
       "      <td>Left Ventricular Dysfunction</td>\n",
       "      <td>\"It has no side effect, I take it in combinati...</td>\n",
       "      <td>9</td>\n",
       "      <td>20-May-12</td>\n",
       "      <td>27</td>\n",
       "    </tr>\n",
       "    <tr>\n",
       "      <td>1</td>\n",
       "      <td>Guanfacine</td>\n",
       "      <td>ADHD</td>\n",
       "      <td>\"My son is halfway through his fourth week of ...</td>\n",
       "      <td>8</td>\n",
       "      <td>27-Apr-10</td>\n",
       "      <td>192</td>\n",
       "    </tr>\n",
       "    <tr>\n",
       "      <td>2</td>\n",
       "      <td>Lybrel</td>\n",
       "      <td>Birth Control</td>\n",
       "      <td>\"I used to take another oral contraceptive, wh...</td>\n",
       "      <td>5</td>\n",
       "      <td>14-Dec-09</td>\n",
       "      <td>17</td>\n",
       "    </tr>\n",
       "    <tr>\n",
       "      <td>3</td>\n",
       "      <td>Buprenorphine / naloxone</td>\n",
       "      <td>Opiate Dependence</td>\n",
       "      <td>\"Suboxone has completely turned my life around...</td>\n",
       "      <td>9</td>\n",
       "      <td>27-Nov-16</td>\n",
       "      <td>37</td>\n",
       "    </tr>\n",
       "    <tr>\n",
       "      <td>4</td>\n",
       "      <td>Cialis</td>\n",
       "      <td>Benign Prostatic Hyperplasia</td>\n",
       "      <td>\"2nd day on 5mg started to work with rock hard...</td>\n",
       "      <td>2</td>\n",
       "      <td>28-Nov-15</td>\n",
       "      <td>43</td>\n",
       "    </tr>\n",
       "  </tbody>\n",
       "</table>\n",
       "</div>"
      ],
      "text/plain": [
       "               name_of_drug             use_case_for_drug  \\\n",
       "0                 Valsartan  Left Ventricular Dysfunction   \n",
       "1                Guanfacine                          ADHD   \n",
       "2                    Lybrel                 Birth Control   \n",
       "3  Buprenorphine / naloxone             Opiate Dependence   \n",
       "4                    Cialis  Benign Prostatic Hyperplasia   \n",
       "\n",
       "                                   review_by_patient  effectiveness_rating  \\\n",
       "0  \"It has no side effect, I take it in combinati...                     9   \n",
       "1  \"My son is halfway through his fourth week of ...                     8   \n",
       "2  \"I used to take another oral contraceptive, wh...                     5   \n",
       "3  \"Suboxone has completely turned my life around...                     9   \n",
       "4  \"2nd day on 5mg started to work with rock hard...                     2   \n",
       "\n",
       "  drug_approved_by_UIC  number_of_times_prescribed  \n",
       "0            20-May-12                          27  \n",
       "1            27-Apr-10                         192  \n",
       "2            14-Dec-09                          17  \n",
       "3            27-Nov-16                          37  \n",
       "4            28-Nov-15                          43  "
      ]
     },
     "execution_count": 85,
     "metadata": {},
     "output_type": "execute_result"
    }
   ],
   "source": [
    "train = pd.read_csv('train.csv')\n",
    "train_labels = train.pop('base_score')\n",
    "train.drop('patient_id',axis=1, inplace=True)\n",
    "train.head()"
   ]
  },
  {
   "cell_type": "code",
   "execution_count": 86,
   "metadata": {},
   "outputs": [
    {
     "data": {
      "text/html": [
       "<div>\n",
       "<style scoped>\n",
       "    .dataframe tbody tr th:only-of-type {\n",
       "        vertical-align: middle;\n",
       "    }\n",
       "\n",
       "    .dataframe tbody tr th {\n",
       "        vertical-align: top;\n",
       "    }\n",
       "\n",
       "    .dataframe thead th {\n",
       "        text-align: right;\n",
       "    }\n",
       "</style>\n",
       "<table border=\"1\" class=\"dataframe\">\n",
       "  <thead>\n",
       "    <tr style=\"text-align: right;\">\n",
       "      <th></th>\n",
       "      <th>name_of_drug</th>\n",
       "      <th>use_case_for_drug</th>\n",
       "      <th>review_by_patient</th>\n",
       "      <th>effectiveness_rating</th>\n",
       "      <th>drug_approved_by_UIC</th>\n",
       "      <th>number_of_times_prescribed</th>\n",
       "    </tr>\n",
       "  </thead>\n",
       "  <tbody>\n",
       "    <tr>\n",
       "      <td>0</td>\n",
       "      <td>Mirtazapine</td>\n",
       "      <td>Depression</td>\n",
       "      <td>\"I&amp;#039;ve tried a few antidepressants over th...</td>\n",
       "      <td>10</td>\n",
       "      <td>28-Feb-12</td>\n",
       "      <td>22</td>\n",
       "    </tr>\n",
       "    <tr>\n",
       "      <td>1</td>\n",
       "      <td>Contrave</td>\n",
       "      <td>Weight Loss</td>\n",
       "      <td>\"Contrave combines drugs that were used for al...</td>\n",
       "      <td>9</td>\n",
       "      <td>5-Mar-17</td>\n",
       "      <td>35</td>\n",
       "    </tr>\n",
       "    <tr>\n",
       "      <td>2</td>\n",
       "      <td>Zyclara</td>\n",
       "      <td>Keratosis</td>\n",
       "      <td>\"4 days in on first 2 weeks.  Using on arms an...</td>\n",
       "      <td>4</td>\n",
       "      <td>3-Jul-14</td>\n",
       "      <td>13</td>\n",
       "    </tr>\n",
       "    <tr>\n",
       "      <td>3</td>\n",
       "      <td>Methadone</td>\n",
       "      <td>Opiate Withdrawal</td>\n",
       "      <td>\"Ive been on Methadone for over ten years and ...</td>\n",
       "      <td>7</td>\n",
       "      <td>18-Oct-16</td>\n",
       "      <td>21</td>\n",
       "    </tr>\n",
       "    <tr>\n",
       "      <td>4</td>\n",
       "      <td>Ambien</td>\n",
       "      <td>Insomnia</td>\n",
       "      <td>\"Ditto on rebound sleepless when discontinued....</td>\n",
       "      <td>2</td>\n",
       "      <td>13-Jan-15</td>\n",
       "      <td>44</td>\n",
       "    </tr>\n",
       "  </tbody>\n",
       "</table>\n",
       "</div>"
      ],
      "text/plain": [
       "  name_of_drug  use_case_for_drug  \\\n",
       "0  Mirtazapine         Depression   \n",
       "1     Contrave        Weight Loss   \n",
       "2      Zyclara          Keratosis   \n",
       "3    Methadone  Opiate Withdrawal   \n",
       "4       Ambien           Insomnia   \n",
       "\n",
       "                                   review_by_patient  effectiveness_rating  \\\n",
       "0  \"I&#039;ve tried a few antidepressants over th...                    10   \n",
       "1  \"Contrave combines drugs that were used for al...                     9   \n",
       "2  \"4 days in on first 2 weeks.  Using on arms an...                     4   \n",
       "3  \"Ive been on Methadone for over ten years and ...                     7   \n",
       "4  \"Ditto on rebound sleepless when discontinued....                     2   \n",
       "\n",
       "  drug_approved_by_UIC  number_of_times_prescribed  \n",
       "0            28-Feb-12                          22  \n",
       "1             5-Mar-17                          35  \n",
       "2             3-Jul-14                          13  \n",
       "3            18-Oct-16                          21  \n",
       "4            13-Jan-15                          44  "
      ]
     },
     "execution_count": 86,
     "metadata": {},
     "output_type": "execute_result"
    }
   ],
   "source": [
    "test = pd.read_csv('test.csv')\n",
    "test_indices = test.pop('patient_id')\n",
    "test = test[train.columns]\n",
    "test.head()"
   ]
  },
  {
   "cell_type": "code",
   "execution_count": 87,
   "metadata": {},
   "outputs": [
    {
     "data": {
      "text/plain": [
       "(42925, 6)"
      ]
     },
     "execution_count": 87,
     "metadata": {},
     "output_type": "execute_result"
    }
   ],
   "source": [
    "train_test = pd.concat([train,test])\n",
    "train_test.shape"
   ]
  },
  {
   "cell_type": "code",
   "execution_count": 88,
   "metadata": {},
   "outputs": [],
   "source": [
    "use_case_dict = dict(zip(train_test.use_case_for_drug.value_counts().index,train_test.use_case_for_drug.value_counts()))\n",
    "train_test.use_case_for_drug = [i if use_case_dict[i]>45 else 'other' for i in list(train_test.use_case_for_drug) ]"
   ]
  },
  {
   "cell_type": "code",
   "execution_count": 89,
   "metadata": {},
   "outputs": [],
   "source": [
    "drug_name_dict = dict(zip(train_test.name_of_drug.value_counts().index,train_test.name_of_drug.value_counts()))\n",
    "train_test.name_of_drug = [i if drug_name_dict[i]>np.mean(train_test.name_of_drug.value_counts())-20 else 'other' for i in list(train_test.name_of_drug) ]"
   ]
  },
  {
   "cell_type": "code",
   "execution_count": null,
   "metadata": {},
   "outputs": [],
   "source": []
  },
  {
   "cell_type": "code",
   "execution_count": 90,
   "metadata": {},
   "outputs": [],
   "source": [
    "train_test.drug_approved_by_UIC = pd.to_datetime(train_test.drug_approved_by_UIC)"
   ]
  },
  {
   "cell_type": "code",
   "execution_count": 91,
   "metadata": {},
   "outputs": [],
   "source": [
    "train_test['day'] = train_test.drug_approved_by_UIC.dt.day\n",
    "train_test['month'] = train_test.drug_approved_by_UIC.dt.month\n",
    "train_test['year'] = train_test.drug_approved_by_UIC.dt.year\n",
    "# train_test['hour'] = train_test.date_time.dt.hour\n",
    "# train_test['minute'] = train_test.date_time.dt.minute\n",
    "# train_test['second'] = train_test.date_time.dt.second\n",
    "train_test.drop('drug_approved_by_UIC', axis=1, inplace=True)"
   ]
  },
  {
   "cell_type": "code",
   "execution_count": 92,
   "metadata": {},
   "outputs": [],
   "source": [
    "train_test.drop('review_by_patient', axis=1, inplace=True)"
   ]
  },
  {
   "cell_type": "code",
   "execution_count": 93,
   "metadata": {},
   "outputs": [],
   "source": [
    "train_test = pd.concat([train_test, pd.get_dummies(train_test.name_of_drug), pd.get_dummies(train_test.use_case_for_drug)], axis=1)"
   ]
  },
  {
   "cell_type": "code",
   "execution_count": 94,
   "metadata": {},
   "outputs": [],
   "source": [
    "train_test.drop(['name_of_drug','use_case_for_drug'],axis=1,inplace=True)"
   ]
  },
  {
   "cell_type": "code",
   "execution_count": 95,
   "metadata": {},
   "outputs": [],
   "source": [
    "stdscaler1 = StandardScaler()\n",
    "stdscaler2 = StandardScaler()\n",
    "# stdscaler1.fit_transform(train_test.number_of_times_prescribed).reshape(-1,1)\n",
    "train_test.number_of_times_prescribed = stdscaler1.fit_transform(np.array(train_test.number_of_times_prescribed).reshape(-1,1))\n",
    "train_test.effectiveness_rating = stdscaler2.fit_transform(np.array(train_test.effectiveness_rating).reshape(-1,1))"
   ]
  },
  {
   "cell_type": "code",
   "execution_count": 96,
   "metadata": {},
   "outputs": [
    {
     "data": {
      "text/html": [
       "<div>\n",
       "<style scoped>\n",
       "    .dataframe tbody tr th:only-of-type {\n",
       "        vertical-align: middle;\n",
       "    }\n",
       "\n",
       "    .dataframe tbody tr th {\n",
       "        vertical-align: top;\n",
       "    }\n",
       "\n",
       "    .dataframe thead th {\n",
       "        text-align: right;\n",
       "    }\n",
       "</style>\n",
       "<table border=\"1\" class=\"dataframe\">\n",
       "  <thead>\n",
       "    <tr style=\"text-align: right;\">\n",
       "      <th></th>\n",
       "      <th>effectiveness_rating</th>\n",
       "      <th>number_of_times_prescribed</th>\n",
       "      <th>day</th>\n",
       "      <th>month</th>\n",
       "      <th>year</th>\n",
       "      <th>Abacavir / dolutegravir / lamivudine</th>\n",
       "      <th>Abatacept</th>\n",
       "      <th>Abilify</th>\n",
       "      <th>Abilify Discmelt</th>\n",
       "      <th>Abiraterone</th>\n",
       "      <th>...</th>\n",
       "      <th>Ulcerative Colitis</th>\n",
       "      <th>Underactive Thyroid</th>\n",
       "      <th>Urinary Incontinence</th>\n",
       "      <th>Urinary Tract Infection</th>\n",
       "      <th>Urticaria</th>\n",
       "      <th>Vaginal Yeast Infection</th>\n",
       "      <th>Weight Loss</th>\n",
       "      <th>ibromyalgia</th>\n",
       "      <th>mance Anxiety</th>\n",
       "      <th>other</th>\n",
       "    </tr>\n",
       "  </thead>\n",
       "  <tbody>\n",
       "    <tr>\n",
       "      <td>0</td>\n",
       "      <td>0.613719</td>\n",
       "      <td>-0.023138</td>\n",
       "      <td>20</td>\n",
       "      <td>5</td>\n",
       "      <td>2012</td>\n",
       "      <td>0</td>\n",
       "      <td>0</td>\n",
       "      <td>0</td>\n",
       "      <td>0</td>\n",
       "      <td>0</td>\n",
       "      <td>...</td>\n",
       "      <td>0</td>\n",
       "      <td>0</td>\n",
       "      <td>0</td>\n",
       "      <td>0</td>\n",
       "      <td>0</td>\n",
       "      <td>0</td>\n",
       "      <td>0</td>\n",
       "      <td>0</td>\n",
       "      <td>0</td>\n",
       "      <td>1</td>\n",
       "    </tr>\n",
       "    <tr>\n",
       "      <td>1</td>\n",
       "      <td>0.308371</td>\n",
       "      <td>4.640073</td>\n",
       "      <td>27</td>\n",
       "      <td>4</td>\n",
       "      <td>2010</td>\n",
       "      <td>0</td>\n",
       "      <td>0</td>\n",
       "      <td>0</td>\n",
       "      <td>0</td>\n",
       "      <td>0</td>\n",
       "      <td>...</td>\n",
       "      <td>0</td>\n",
       "      <td>0</td>\n",
       "      <td>0</td>\n",
       "      <td>0</td>\n",
       "      <td>0</td>\n",
       "      <td>0</td>\n",
       "      <td>0</td>\n",
       "      <td>0</td>\n",
       "      <td>0</td>\n",
       "      <td>0</td>\n",
       "    </tr>\n",
       "    <tr>\n",
       "      <td>2</td>\n",
       "      <td>-0.607672</td>\n",
       "      <td>-0.305757</td>\n",
       "      <td>14</td>\n",
       "      <td>12</td>\n",
       "      <td>2009</td>\n",
       "      <td>0</td>\n",
       "      <td>0</td>\n",
       "      <td>0</td>\n",
       "      <td>0</td>\n",
       "      <td>0</td>\n",
       "      <td>...</td>\n",
       "      <td>0</td>\n",
       "      <td>0</td>\n",
       "      <td>0</td>\n",
       "      <td>0</td>\n",
       "      <td>0</td>\n",
       "      <td>0</td>\n",
       "      <td>0</td>\n",
       "      <td>0</td>\n",
       "      <td>0</td>\n",
       "      <td>0</td>\n",
       "    </tr>\n",
       "    <tr>\n",
       "      <td>3</td>\n",
       "      <td>0.613719</td>\n",
       "      <td>0.259481</td>\n",
       "      <td>27</td>\n",
       "      <td>11</td>\n",
       "      <td>2016</td>\n",
       "      <td>0</td>\n",
       "      <td>0</td>\n",
       "      <td>0</td>\n",
       "      <td>0</td>\n",
       "      <td>0</td>\n",
       "      <td>...</td>\n",
       "      <td>0</td>\n",
       "      <td>0</td>\n",
       "      <td>0</td>\n",
       "      <td>0</td>\n",
       "      <td>0</td>\n",
       "      <td>0</td>\n",
       "      <td>0</td>\n",
       "      <td>0</td>\n",
       "      <td>0</td>\n",
       "      <td>0</td>\n",
       "    </tr>\n",
       "    <tr>\n",
       "      <td>4</td>\n",
       "      <td>-1.523715</td>\n",
       "      <td>0.429052</td>\n",
       "      <td>28</td>\n",
       "      <td>11</td>\n",
       "      <td>2015</td>\n",
       "      <td>0</td>\n",
       "      <td>0</td>\n",
       "      <td>0</td>\n",
       "      <td>0</td>\n",
       "      <td>0</td>\n",
       "      <td>...</td>\n",
       "      <td>0</td>\n",
       "      <td>0</td>\n",
       "      <td>0</td>\n",
       "      <td>0</td>\n",
       "      <td>0</td>\n",
       "      <td>0</td>\n",
       "      <td>0</td>\n",
       "      <td>0</td>\n",
       "      <td>0</td>\n",
       "      <td>0</td>\n",
       "    </tr>\n",
       "  </tbody>\n",
       "</table>\n",
       "<p>5 rows × 2502 columns</p>\n",
       "</div>"
      ],
      "text/plain": [
       "   effectiveness_rating  number_of_times_prescribed  day  month  year  \\\n",
       "0              0.613719                   -0.023138   20      5  2012   \n",
       "1              0.308371                    4.640073   27      4  2010   \n",
       "2             -0.607672                   -0.305757   14     12  2009   \n",
       "3              0.613719                    0.259481   27     11  2016   \n",
       "4             -1.523715                    0.429052   28     11  2015   \n",
       "\n",
       "   Abacavir / dolutegravir / lamivudine  Abatacept  Abilify  Abilify Discmelt  \\\n",
       "0                                     0          0        0                 0   \n",
       "1                                     0          0        0                 0   \n",
       "2                                     0          0        0                 0   \n",
       "3                                     0          0        0                 0   \n",
       "4                                     0          0        0                 0   \n",
       "\n",
       "   Abiraterone  ...  Ulcerative Colitis  Underactive Thyroid  \\\n",
       "0            0  ...                   0                    0   \n",
       "1            0  ...                   0                    0   \n",
       "2            0  ...                   0                    0   \n",
       "3            0  ...                   0                    0   \n",
       "4            0  ...                   0                    0   \n",
       "\n",
       "   Urinary Incontinence  Urinary Tract Infection  Urticaria  \\\n",
       "0                     0                        0          0   \n",
       "1                     0                        0          0   \n",
       "2                     0                        0          0   \n",
       "3                     0                        0          0   \n",
       "4                     0                        0          0   \n",
       "\n",
       "   Vaginal Yeast Infection  Weight Loss  ibromyalgia  mance Anxiety  other  \n",
       "0                        0            0            0              0      1  \n",
       "1                        0            0            0              0      0  \n",
       "2                        0            0            0              0      0  \n",
       "3                        0            0            0              0      0  \n",
       "4                        0            0            0              0      0  \n",
       "\n",
       "[5 rows x 2502 columns]"
      ]
     },
     "execution_count": 96,
     "metadata": {},
     "output_type": "execute_result"
    }
   ],
   "source": [
    "train_test.head()"
   ]
  },
  {
   "cell_type": "code",
   "execution_count": 97,
   "metadata": {},
   "outputs": [],
   "source": [
    "train_test = train_test.to_numpy()"
   ]
  },
  {
   "cell_type": "code",
   "execution_count": 98,
   "metadata": {},
   "outputs": [
    {
     "data": {
      "text/plain": [
       "(42925, 2502)"
      ]
     },
     "execution_count": 98,
     "metadata": {},
     "output_type": "execute_result"
    }
   ],
   "source": [
    "train_test.shape"
   ]
  },
  {
   "cell_type": "code",
   "execution_count": 39,
   "metadata": {},
   "outputs": [],
   "source": [
    "# train_test = train_test[:,2:]"
   ]
  },
  {
   "cell_type": "code",
   "execution_count": null,
   "metadata": {},
   "outputs": [],
   "source": []
  },
  {
   "cell_type": "code",
   "execution_count": null,
   "metadata": {},
   "outputs": [],
   "source": []
  },
  {
   "cell_type": "code",
   "execution_count": 99,
   "metadata": {},
   "outputs": [
    {
     "name": "stdout",
     "output_type": "stream",
     "text": [
      "      Iter       Train Loss   Remaining Time \n",
      "         1           2.3418          205.67m\n",
      "         2           2.1726          186.57m\n",
      "         3           2.0199          178.79m\n",
      "         4           1.8822          173.18m\n",
      "         5           1.7580          169.05m\n",
      "         6           1.6458          166.29m\n",
      "         7           1.5441          164.48m\n",
      "         8           1.4525          163.43m\n",
      "         9           1.3699          163.89m\n",
      "        10           1.2950          163.64m\n",
      "        20           0.8339          157.71m\n",
      "        30           0.5875          163.57m\n",
      "        40           0.4501          172.87m\n",
      "        50           0.3443          174.20m\n",
      "        60           0.2795          171.10m\n",
      "        70           0.2144          172.13m\n",
      "        80           0.1764          168.76m\n",
      "        90           0.1358          169.89m\n",
      "       100           0.1013          170.97m\n",
      "       200           0.0151          170.12m\n",
      "       300           0.0039          160.12m\n",
      "       400           0.0014          143.10m\n",
      "       500           0.0008          130.70m\n",
      "       600           0.0006          118.31m\n",
      "       700           0.0004          102.71m\n",
      "       800           0.0004           84.55m\n",
      "       900           0.0003           65.57m\n",
      "      1000           0.0003           43.91m\n"
     ]
    },
    {
     "data": {
      "text/plain": [
       "GradientBoostingRegressor(alpha=0.9, ccp_alpha=0.0, criterion='friedman_mse',\n",
       "                          init=None, learning_rate=0.05, loss='ls', max_depth=9,\n",
       "                          max_features=None, max_leaf_nodes=None,\n",
       "                          min_impurity_decrease=0.0, min_impurity_split=None,\n",
       "                          min_samples_leaf=1, min_samples_split=2,\n",
       "                          min_weight_fraction_leaf=0.0, n_estimators=1200,\n",
       "                          n_iter_no_change=100, presort='deprecated',\n",
       "                          random_state=5, subsample=1.0, tol=1e-05,\n",
       "                          validation_fraction=0.02, verbose=1, warm_start=True)"
      ]
     },
     "execution_count": 99,
     "metadata": {},
     "output_type": "execute_result"
    }
   ],
   "source": [
    "gbt = GradientBoostingRegressor(random_state=5,verbose=1,max_depth=9, n_estimators = 1200,  criterion='friedman_mse',warm_start=True,tol=0.00001,learning_rate=0.05,validation_fraction=0.02, n_iter_no_change=100)\n",
    "gbt.fit(train_test[:train.shape[0]], train_labels)"
   ]
  },
  {
   "cell_type": "code",
   "execution_count": 100,
   "metadata": {},
   "outputs": [],
   "source": [
    "gbt_preds = gbt.predict(train_test[train.shape[0]:])  "
   ]
  },
  {
   "cell_type": "code",
   "execution_count": 101,
   "metadata": {},
   "outputs": [],
   "source": [
    "sub = pd.DataFrame()"
   ]
  },
  {
   "cell_type": "code",
   "execution_count": 102,
   "metadata": {},
   "outputs": [],
   "source": [
    "sub['patient_id'] = test_indices"
   ]
  },
  {
   "cell_type": "code",
   "execution_count": 103,
   "metadata": {},
   "outputs": [],
   "source": [
    "sub['base_score'] = gbt_preds#np.array(gbt_preds).astype('int')#np.mean([preds,gbt_preds])."
   ]
  },
  {
   "cell_type": "code",
   "execution_count": 104,
   "metadata": {},
   "outputs": [],
   "source": [
    "sub.to_csv('sub_gbt5.csv',index=False)"
   ]
  },
  {
   "cell_type": "code",
   "execution_count": null,
   "metadata": {},
   "outputs": [],
   "source": []
  },
  {
   "cell_type": "code",
   "execution_count": 82,
   "metadata": {},
   "outputs": [
    {
     "data": {
      "text/plain": [
       "GradientBoostingRegressor(alpha=0.9, ccp_alpha=0.0, criterion='friedman_mse',\n",
       "                          init=None, learning_rate=0.1, loss='ls', max_depth=3,\n",
       "                          max_features=None, max_leaf_nodes=None,\n",
       "                          min_impurity_decrease=0.0, min_impurity_split=None,\n",
       "                          min_samples_leaf=1, min_samples_split=2,\n",
       "                          min_weight_fraction_leaf=0.0, n_estimators=100,\n",
       "                          n_iter_no_change=None, presort='deprecated',\n",
       "                          random_state=None, subsample=1.0, tol=0.0001,\n",
       "                          validation_fraction=0.1, verbose=0, warm_start=False)"
      ]
     },
     "execution_count": 82,
     "metadata": {},
     "output_type": "execute_result"
    }
   ],
   "source": [
    "# GradientBoostingRegressor()"
   ]
  },
  {
   "cell_type": "code",
   "execution_count": null,
   "metadata": {},
   "outputs": [],
   "source": []
  },
  {
   "cell_type": "code",
   "execution_count": null,
   "metadata": {},
   "outputs": [],
   "source": []
  },
  {
   "cell_type": "code",
   "execution_count": null,
   "metadata": {},
   "outputs": [],
   "source": []
  },
  {
   "cell_type": "code",
   "execution_count": null,
   "metadata": {},
   "outputs": [],
   "source": []
  },
  {
   "cell_type": "code",
   "execution_count": 14,
   "metadata": {},
   "outputs": [],
   "source": [
    "from catboost import Pool, CatBoostRegressor"
   ]
  },
  {
   "cell_type": "code",
   "execution_count": 15,
   "metadata": {},
   "outputs": [],
   "source": [
    "train_pool = Pool(train_test[:int(train.shape[0]*0.8)], train_labels[:int(len(train_labels)*0.8)], cat_features = [0,1,4,5,6])\n",
    "eval_pool = Pool(train_test[int(train.shape[0]*0.8):train.shape[0]], train_labels[int(len(train_labels)*0.8):], cat_features = [0,1,4,5,6])\n",
    "test_pool = Pool(train_test[train.shape[0]:], cat_features = [0,1,4,5,6])"
   ]
  },
  {
   "cell_type": "code",
   "execution_count": 16,
   "metadata": {},
   "outputs": [
    {
     "name": "stdout",
     "output_type": "stream",
     "text": [
      "Stopped by overfitting detector  (100 iterations wait)\n",
      "\n",
      "bestTest = 0.1314830637\n",
      "bestIteration = 4340\n",
      "\n",
      "Shrink model to first 4341 iterations.\n"
     ]
    },
    {
     "data": {
      "text/plain": [
       "<catboost.core.CatBoostRegressor at 0x271d87bc588>"
      ]
     },
     "execution_count": 16,
     "metadata": {},
     "output_type": "execute_result"
    }
   ],
   "source": [
    "cbt = CatBoostRegressor(iterations=6000, depth=16, learning_rate=0.03, loss_function='RMSE',od_type='Iter',od_wait=100)\n",
    "grid = {'learning_rate': [0.03, 0.1],\n",
    "        'depth': [4, 6, 10, 12, 15, 20 ],\n",
    "        'l2_leaf_reg': [1, 3, 5, 7, 9,11,13]}\n",
    "# cbt.randomized_search(grid,X=train_test[:train.shape[0]],y=train_labels,plot=True)\n",
    "cbt.fit(train_pool, eval_set=eval_pool,verbose=50,use_best_model=True,save_snapshot=True,snapshot_file='cbt_snapshot4.cbsnapshot')"
   ]
  },
  {
   "cell_type": "code",
   "execution_count": 17,
   "metadata": {},
   "outputs": [],
   "source": [
    "cbt_preds = cbt.predict(test_pool)"
   ]
  },
  {
   "cell_type": "code",
   "execution_count": 74,
   "metadata": {},
   "outputs": [],
   "source": [
    "import pickle\n",
    "with open('gbt2.pickle','wb') as f:\n",
    "\tpickle.dump(gbt,f)"
   ]
  },
  {
   "cell_type": "code",
   "execution_count": 47,
   "metadata": {},
   "outputs": [
    {
     "data": {
      "text/plain": [
       "22"
      ]
     },
     "execution_count": 47,
     "metadata": {},
     "output_type": "execute_result"
    }
   ],
   "source": [
    "gc.collect()"
   ]
  },
  {
   "cell_type": "code",
   "execution_count": 83,
   "metadata": {},
   "outputs": [
    {
     "name": "stdout",
     "output_type": "stream",
     "text": [
      "[8.75200198 8.74013717 5.95435038 ... 6.79893875 5.30260808 8.19682391]\n"
     ]
    }
   ],
   "source": [
    "l = []\n",
    "for i in list(os.listdir()):\n",
    "\tif i.endswith('.csv') and i.startswith('sub') and not i.endswith('mean.csv'):\n",
    "\t\tdf = pd.read_csv(i)\n",
    "\t\tl.append(df)\n",
    "k=[]\n",
    "for i in l:\n",
    "\tk.append(list(i.base_score))\n",
    "bs = np.mean(k,axis=0)\n",
    "print(bs)\n",
    "sub = pd.DataFrame()\n",
    "sub['patient_id'] = test_indices\n",
    "sub['base_score'] = bs\n",
    "sub.to_csv('sub_mean.csv',index=False)"
   ]
  },
  {
   "cell_type": "code",
   "execution_count": null,
   "metadata": {},
   "outputs": [],
   "source": []
  }
 ],
 "metadata": {
  "kernelspec": {
   "display_name": "Python 3",
   "language": "python",
   "name": "python3"
  },
  "language_info": {
   "codemirror_mode": {
    "name": "ipython",
    "version": 3
   },
   "file_extension": ".py",
   "mimetype": "text/x-python",
   "name": "python",
   "nbconvert_exporter": "python",
   "pygments_lexer": "ipython3",
   "version": "3.7.6"
  }
 },
 "nbformat": 4,
 "nbformat_minor": 4
}

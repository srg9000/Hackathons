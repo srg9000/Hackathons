{
  "nbformat": 4,
  "nbformat_minor": 0,
  "metadata": {
    "colab": {
      "name": "HE_gala.ipynb",
      "provenance": [],
      "collapsed_sections": [],
      "machine_shape": "hm"
    },
    "kernelspec": {
      "name": "python3",
      "display_name": "Python 3"
    },
    "accelerator": "GPU"
  },
  "cells": [
    {
      "cell_type": "code",
      "metadata": {
        "id": "3_LjDk_AN1Uf",
        "colab_type": "code",
        "colab": {}
      },
      "source": [
        ""
      ],
      "execution_count": 0,
      "outputs": []
    },
    {
      "cell_type": "code",
      "metadata": {
        "id": "sJuQym5M_rGp",
        "colab_type": "code",
        "outputId": "68641ac5-da22-4749-b3eb-adada228e751",
        "colab": {
          "base_uri": "https://localhost:8080/",
          "height": 34
        }
      },
      "source": [
        "%tensorflow_version 1.x"
      ],
      "execution_count": 0,
      "outputs": [
        {
          "output_type": "stream",
          "text": [
            "TensorFlow is already loaded. Please restart the runtime to change versions.\n"
          ],
          "name": "stdout"
        }
      ]
    },
    {
      "cell_type": "code",
      "metadata": {
        "id": "vWXuytzg1_7C",
        "colab_type": "code",
        "colab": {}
      },
      "source": [
        "!pip install -q efficientnet"
      ],
      "execution_count": 0,
      "outputs": []
    },
    {
      "cell_type": "code",
      "metadata": {
        "id": "0stk2s2BReOS",
        "colab_type": "code",
        "outputId": "4ffe34cf-f887-4f6f-abcd-03cdb179143e",
        "colab": {
          "base_uri": "https://localhost:8080/",
          "height": 34
        }
      },
      "source": [
        "import numpy as np\n",
        "import pandas as pd\n",
        "import cv2\n",
        "import torch\n",
        "import torchvision\n",
        "from google.colab.patches import cv2_imshow\n",
        "import efficientnet.keras as efn\n",
        "import tensorflow as tf\n",
        "import keras\n",
        "import os,sys\n",
        "import gc\n",
        "# from keras_efficientnets import EfficientNetB5,EfficientNetB3\n",
        "import itertools\n",
        "from albumentations import (\n",
        "    CLAHE, Blur,IAAAdditiveGaussianNoise, GaussNoise, MotionBlur, MedianBlur,\n",
        "     RandomBrightnessContrast, IAASharpen, IAAEmboss, OneOf, Compose, \n",
        "     RandomBrightness, RandomContrast, JpegCompression, Resize, ShiftScaleRotate\n",
        ")"
      ],
      "execution_count": 0,
      "outputs": [
        {
          "output_type": "stream",
          "text": [
            "Using TensorFlow backend.\n"
          ],
          "name": "stderr"
        }
      ]
    },
    {
      "cell_type": "code",
      "metadata": {
        "id": "F8jCiF4A58v8",
        "colab_type": "code",
        "colab": {}
      },
      "source": [
        "!cp drive/My\\ Drive/9d34462453e311ea.zip ."
      ],
      "execution_count": 0,
      "outputs": []
    },
    {
      "cell_type": "code",
      "metadata": {
        "id": "BhVTYNwjR8Vz",
        "colab_type": "code",
        "colab": {}
      },
      "source": [
        "!unzip 9d34462453e311ea.zip "
      ],
      "execution_count": 0,
      "outputs": []
    },
    {
      "cell_type": "code",
      "metadata": {
        "id": "xYPiH4ERbTp9",
        "colab_type": "code",
        "colab": {}
      },
      "source": [
        "os.chdir('dataset')"
      ],
      "execution_count": 0,
      "outputs": []
    },
    {
      "cell_type": "code",
      "metadata": {
        "id": "HBz1c8LJJBnr",
        "colab_type": "code",
        "colab": {}
      },
      "source": [
        "def get_model(weights_=None):\n",
        "    model_base = keras.applications.DenseNet201(input_shape = (224,224,3),weights=weights_,include_top=False)\n",
        "    model_base.trainable=False\n",
        "    model_base._trainable=False\n",
        "    for layer in model_base.layers:\n",
        "        layer._trainable = False\n",
        "    # model._layers.pop(-1)\n",
        "    modelf = keras.layers.GlobalAveragePooling2D()(model_base.output)\n",
        "    modelf = keras.layers.Dense(1024, activation='relu')(modelf)\n",
        "    modelf = keras.layers.Dropout(0.2)(modelf)\n",
        "    modelf = keras.layers.BatchNormalization()(modelf)\n",
        "    modelf = keras.layers.Dense(512, activation='relu')(modelf)\n",
        "    modelf = keras.layers.Dense(4, activation = 'sigmoid')(modelf)\n",
        "    model = keras.Model(model_base.input,modelf)\n",
        "    return model"
      ],
      "execution_count": 0,
      "outputs": []
    },
    {
      "cell_type": "code",
      "metadata": {
        "id": "zySkQIhUJHIo",
        "colab_type": "code",
        "colab": {}
      },
      "source": [
        "def strong_aug():\n",
        "    return Compose([\n",
        "        OneOf([\n",
        "            IAAAdditiveGaussianNoise(),\n",
        "            GaussNoise(var_limit=(1,10)),\n",
        "        ], p=0.5),\n",
        "        OneOf([\n",
        "            MotionBlur(p=0.5),\n",
        "            MedianBlur(blur_limit=3, p=0.5),\n",
        "            Blur(blur_limit=2, p=0.5),\n",
        "        ]),\n",
        "        RandomBrightness(p=0.3,limit=0.2),\n",
        "        RandomContrast(p=0.3,limit=0.2),\n",
        "        JpegCompression(quality_lower=20,p=0.5),\n",
        "        ShiftScaleRotate(shift_limit=0.2, scale_limit=0.2, rotate_limit=360, interpolation=1, border_mode=4,always_apply=False, p=0.90)\n",
        "        ])"
      ],
      "execution_count": 0,
      "outputs": []
    },
    {
      "cell_type": "code",
      "metadata": {
        "id": "czuG1kfw9Gnh",
        "colab_type": "code",
        "colab": {}
      },
      "source": [
        "def equalize(img):\n",
        "\timg[:,:,0] = cv2.equalizeHist(img[:,:,0])\n",
        "\treturn img\n",
        "def normalize(img):\n",
        "\timg[:,:,0] = ((img[:,:,0]-np.min(img[:,:,0]))*((200-0)/(np.max(img[:,:,0]) - np.min(img[:,:,0]))))\n",
        "\treturn img\n",
        "def hsv(img):\n",
        "\treturn cv2.cvtColor(img,cv2.COLOR_BGR2HSV)\n",
        "def lab(img):\n",
        "\treturn cv2.cvtColor(img,cv2.COLOR_BGR2LAB)\n",
        "def lab2bgr(img):\n",
        "\treturn cv2.cvtColor(img,cv2.COLOR_LAB2BGR)\n",
        "def stretch(img):\n",
        "    return lab2bgr(equalize(lab(img)))"
      ],
      "execution_count": 0,
      "outputs": []
    },
    {
      "cell_type": "code",
      "metadata": {
        "id": "TY_BJjQOJJT7",
        "colab_type": "code",
        "colab": {}
      },
      "source": [
        "import copy\n",
        "from itertools import cycle\n",
        "batch_size = 26\n",
        "def generator(img_r, gt_r=None):\n",
        "    imgc = cycle(img_r)\n",
        "    gtc = cycle(gt_r)\n",
        "    x=[]\n",
        "    y=[]\n",
        "    for img,gt in zip(imgc,gtc):\n",
        "            # img = stretch(img)\n",
        "            img = cv2.cvtColor(img, cv2.COLOR_BGR2RGB)\n",
        "            img = (np.reshape(np.array(cv2.resize(img,(224,224),interpolation=cv2.INTER_LINEAR)),(224,224,3))).astype('uint8')\n",
        "            # img = cv2.fastNlMeansDenoisingColored(img,None,10,10,7,21)\n",
        "            aug = strong_aug()\n",
        "            img = aug(image=img)['image']\n",
        "            if np.random.choice([1,2,3,4]) == 4:\n",
        "                img = cv2.flip(img,1)\n",
        "            # cv2_imshow(img)\n",
        "            x.append(img.astype(np.float32)/255)\n",
        "            y.append(gt)\n",
        "            if len(x)==batch_size:\n",
        "                x = np.array(x)\n",
        "                y = np.array(y)\n",
        "                k = tuple((x,y))\n",
        "                x=[]\n",
        "                y=[]\n",
        "                yield k"
      ],
      "execution_count": 0,
      "outputs": []
    },
    {
      "cell_type": "code",
      "metadata": {
        "id": "8xcAynKWrwnp",
        "colab_type": "code",
        "outputId": "97e46e6e-9dcb-4189-ac31-eb9ba343c178",
        "colab": {
          "base_uri": "https://localhost:8080/",
          "height": 34
        }
      },
      "source": [
        "x = cv2.imread('Train Images/'+list(os.listdir('Train Images'))[5])\n",
        "print(x.shape)"
      ],
      "execution_count": 0,
      "outputs": [
        {
          "output_type": "stream",
          "text": [
            "(107, 80, 3)\n"
          ],
          "name": "stdout"
        }
      ]
    },
    {
      "cell_type": "code",
      "metadata": {
        "id": "CL9IrK_oJEP_",
        "colab_type": "code",
        "colab": {}
      },
      "source": [
        "def get_dataset(batch_size=20):\n",
        "    train = pd.read_csv('train.csv')\n",
        "    # train.head()\n",
        "    classes = list(train['Class'])\n",
        "    images = list(train['Image'])\n",
        "    imgs = []\n",
        "    for i in images:\n",
        "        imgs.append(cv2.resize(cv2.imread('Train Images/'+i), (80,80)))\n",
        "    train = pd.concat([train, pd.get_dummies(train['Class'])], axis = 1)\n",
        "    train = train.drop(columns='Class', axis = 0)\n",
        "    gts = train[list(train)[1:]]\n",
        "    train_set = imgs[:5720]\n",
        "    val_set = imgs[5720:]\n",
        "    train_gt = np.array(gts.loc[:5719]).astype('float32')\n",
        "    val_gt = np.array(gts.loc[5720:]).astype('float32')\n",
        "    train_set = np.array([cv2.resize(i,(80,80)) for i in train_set])\n",
        "    val_set = np.array([cv2.resize(i,(80,80)) for i in val_set])\n",
        "    return train,train_set,train_gt,val_set,val_gt"
      ],
      "execution_count": 0,
      "outputs": []
    },
    {
      "cell_type": "code",
      "metadata": {
        "id": "pUjhEGuEAIfz",
        "colab_type": "code",
        "colab": {}
      },
      "source": [
        "train,train_set,train_gt,val_set,val_gt = get_dataset()"
      ],
      "execution_count": 0,
      "outputs": []
    },
    {
      "cell_type": "code",
      "metadata": {
        "id": "HcjTiWdrKzYP",
        "colab_type": "code",
        "colab": {}
      },
      "source": [
        "model = get_model('imagenet')\n",
        "model.compile(optimizer=keras.optimizers.Adam(0.001), \n",
        "                loss='categorical_crossentropy',\n",
        "                metrics=['accuracy'])\n",
        "train,train_set,train_gt,val_set,val_gt = get_dataset()"
      ],
      "execution_count": 0,
      "outputs": []
    },
    {
      "cell_type": "code",
      "metadata": {
        "id": "sNG80BZnLDsF",
        "colab_type": "code",
        "colab": {}
      },
      "source": [
        "es_callback = keras.callbacks.EarlyStopping(monitor='val_loss', min_delta=0, patience=30, verbose=1, mode='min', baseline=None, restore_best_weights=False)\n",
        "mc_callback = keras.callbacks.ModelCheckpoint('../drive/My Drive/model_efn5_he_trained_4.h5', monitor='val_loss', verbose=1, save_best_only=True, save_weights_only=False, mode='min', period=1)\n",
        "csv_callback = keras.callbacks.CSVLogger('csvlog.log', separator=',', append=False)\n",
        "reduce_learning_rate = keras.callbacks.ReduceLROnPlateau(monitor='loss',\n",
        "                                         factor=0.1,\n",
        "                                         patience=2,\n",
        "                                         cooldown=2,\n",
        "                                         min_lr=0.00001,\n",
        "                                         verbose=1)\n",
        "callback_list = [reduce_learning_rate, mc_callback,es_callback]"
      ],
      "execution_count": 0,
      "outputs": []
    },
    {
      "cell_type": "code",
      "metadata": {
        "id": "ba4M3HS0MpiH",
        "colab_type": "code",
        "colab": {}
      },
      "source": [
        "model.compile(optimizer=keras.optimizers.Adam(0.0001), \n",
        "                loss='categorical_crossentropy',\n",
        "                metrics=['accuracy'])\n"
      ],
      "execution_count": 0,
      "outputs": []
    },
    {
      "cell_type": "code",
      "metadata": {
        "id": "0rP0G7FPLKNV",
        "colab_type": "code",
        "colab": {}
      },
      "source": [
        "# hist = model.fit(train_set,train_gt, validation_data = (val_set,val_gt),verbose=1, batch_size=32,callbacks=callback_list, \n",
        "#                  epochs=50,shuffle=True, use_multiprocessing=True,workers=8)"
      ],
      "execution_count": 0,
      "outputs": []
    },
    {
      "cell_type": "code",
      "metadata": {
        "id": "vdLSj9_jzmEd",
        "colab_type": "code",
        "colab": {}
      },
      "source": [
        "# model = get_model('noisy-student')#keras.models.load_model('../drive/My Drive/model3_he_trained_1.h5')"
      ],
      "execution_count": 0,
      "outputs": []
    },
    {
      "cell_type": "code",
      "metadata": {
        "id": "tSyKHlAjz8SM",
        "colab_type": "code",
        "colab": {}
      },
      "source": [
        "train_gen = generator(train_set, train_gt)\n",
        "val_gen = generator(val_set, val_gt)"
      ],
      "execution_count": 0,
      "outputs": []
    },
    {
      "cell_type": "code",
      "metadata": {
        "id": "tFcpFf5UtZ7a",
        "colab_type": "code",
        "colab": {}
      },
      "source": [
        "# model = keras.models.load_model('../drive/My Drive/model_vgg_he_trained_3.h5')"
      ],
      "execution_count": 0,
      "outputs": []
    },
    {
      "cell_type": "code",
      "metadata": {
        "id": "ctXLwCxdhkOW",
        "colab_type": "code",
        "outputId": "125a5e23-2dce-4dfa-9541-06f589e6f87d",
        "colab": {
          "base_uri": "https://localhost:8080/",
          "height": 34
        }
      },
      "source": [
        "import gc\n",
        "gc.collect()"
      ],
      "execution_count": 0,
      "outputs": [
        {
          "output_type": "execute_result",
          "data": {
            "text/plain": [
              "1230"
            ]
          },
          "metadata": {
            "tags": []
          },
          "execution_count": 106
        }
      ]
    },
    {
      "cell_type": "code",
      "metadata": {
        "id": "RTng4qTI0FH5",
        "colab_type": "code",
        "colab": {}
      },
      "source": [
        "hist2 = model.fit_generator(train_gen, steps_per_epoch=len(train_set)//26, epochs = 1000, callbacks=callback_list,\n",
        "                            verbose=1, validation_data=val_gen, validation_steps = len(val_set)//26,use_multiprocessing=True,workers=8, shuffle=True)"
      ],
      "execution_count": 0,
      "outputs": []
    },
    {
      "cell_type": "code",
      "metadata": {
        "id": "tAiE7StICVWU",
        "colab_type": "code",
        "colab": {}
      },
      "source": [
        "n = next(train_gen)"
      ],
      "execution_count": 0,
      "outputs": []
    },
    {
      "cell_type": "code",
      "metadata": {
        "id": "guLQyW74JO6J",
        "colab_type": "code",
        "colab": {}
      },
      "source": [
        "model.summary()"
      ],
      "execution_count": 0,
      "outputs": []
    },
    {
      "cell_type": "code",
      "metadata": {
        "id": "YAkd9JOwiDaL",
        "colab_type": "code",
        "colab": {}
      },
      "source": [
        "model = keras.models.load_model('../drive/My Drive/model_efn5_he_trained_4.h5')"
      ],
      "execution_count": 0,
      "outputs": []
    },
    {
      "cell_type": "code",
      "metadata": {
        "id": "EPBph3V9be2d",
        "colab_type": "code",
        "colab": {}
      },
      "source": [
        "test = pd.read_csv('test.csv')"
      ],
      "execution_count": 0,
      "outputs": []
    },
    {
      "cell_type": "code",
      "metadata": {
        "id": "IrrcQsrwJ5Xx",
        "colab_type": "code",
        "outputId": "c08a8851-9019-4053-878d-a4225084e2b0",
        "colab": {
          "base_uri": "https://localhost:8080/",
          "height": 34
        }
      },
      "source": [
        "test.shape"
      ],
      "execution_count": 0,
      "outputs": [
        {
          "output_type": "execute_result",
          "data": {
            "text/plain": [
              "(3219, 1)"
            ]
          },
          "metadata": {
            "tags": []
          },
          "execution_count": 92
        }
      ]
    },
    {
      "cell_type": "code",
      "metadata": {
        "id": "SWCgAr26S-f2",
        "colab_type": "code",
        "colab": {}
      },
      "source": [
        "images = list(test['Image'])\n",
        "imgs = []\n",
        "for i in images:\n",
        "    imgs.append((cv2.cvtColor(cv2.resize(cv2.imread('Test Images/'+i), (224,224)),cv2.COLOR_BGR2RGB).astype(np.float32))/255)"
      ],
      "execution_count": 0,
      "outputs": []
    },
    {
      "cell_type": "code",
      "metadata": {
        "id": "UooE4VR4S-cW",
        "colab_type": "code",
        "colab": {}
      },
      "source": [
        "preds = model.predict(np.array(imgs))"
      ],
      "execution_count": 0,
      "outputs": []
    },
    {
      "cell_type": "code",
      "metadata": {
        "id": "RbFl9YtCS-ZG",
        "colab_type": "code",
        "colab": {}
      },
      "source": [
        "ixs = [np.argmax(i) for i in preds ]"
      ],
      "execution_count": 0,
      "outputs": []
    },
    {
      "cell_type": "code",
      "metadata": {
        "id": "hkN7rCNVVJny",
        "colab_type": "code",
        "colab": {}
      },
      "source": [
        "mapp = {0:'Attire',1:'Decorationandsignage',2:'Food',3:'misc'}"
      ],
      "execution_count": 0,
      "outputs": []
    },
    {
      "cell_type": "code",
      "metadata": {
        "id": "rRVkW3oCS-WA",
        "colab_type": "code",
        "colab": {}
      },
      "source": [
        "ixs = [mapp[i] for i in ixs]"
      ],
      "execution_count": 0,
      "outputs": []
    },
    {
      "cell_type": "code",
      "metadata": {
        "id": "BUtxBiV4WEQX",
        "colab_type": "code",
        "colab": {}
      },
      "source": [
        "test['Class'] = ixs"
      ],
      "execution_count": 0,
      "outputs": []
    },
    {
      "cell_type": "code",
      "metadata": {
        "id": "qruKdsBTWKLu",
        "colab_type": "code",
        "colab": {}
      },
      "source": [
        "test.to_csv('out.csv',index=False)"
      ],
      "execution_count": 0,
      "outputs": []
    },
    {
      "cell_type": "code",
      "metadata": {
        "id": "7J6bqRFLlbyF",
        "colab_type": "code",
        "colab": {}
      },
      "source": [
        ""
      ],
      "execution_count": 0,
      "outputs": []
    },
    {
      "cell_type": "code",
      "metadata": {
        "id": "PJyO8vMqRcLv",
        "colab_type": "code",
        "colab": {}
      },
      "source": [
        ""
      ],
      "execution_count": 0,
      "outputs": []
    },
    {
      "cell_type": "code",
      "metadata": {
        "id": "fz4nVpJnRdvm",
        "colab_type": "code",
        "colab": {}
      },
      "source": [
        ""
      ],
      "execution_count": 0,
      "outputs": []
    },
    {
      "cell_type": "code",
      "metadata": {
        "id": "anY4gl3xSeOU",
        "colab_type": "code",
        "colab": {}
      },
      "source": [
        ""
      ],
      "execution_count": 0,
      "outputs": []
    },
    {
      "cell_type": "code",
      "metadata": {
        "id": "jUUN5h0ESfoP",
        "colab_type": "code",
        "colab": {}
      },
      "source": [
        ""
      ],
      "execution_count": 0,
      "outputs": []
    },
    {
      "cell_type": "code",
      "metadata": {
        "id": "V4vE-JQpSgNT",
        "colab_type": "code",
        "colab": {}
      },
      "source": [
        ""
      ],
      "execution_count": 0,
      "outputs": []
    }
  ]
}